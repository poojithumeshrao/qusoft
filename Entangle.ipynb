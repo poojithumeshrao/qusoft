{
 "cells": [
  {
   "cell_type": "code",
   "execution_count": null,
   "id": "9aa5ba64",
   "metadata": {},
   "outputs": [],
   "source": []
  },
  {
   "cell_type": "code",
   "execution_count": 1,
   "id": "5830729b",
   "metadata": {},
   "outputs": [],
   "source": [
    "import numpy as np\n",
    "from qiskit import *\n",
    "from qiskit.circuit.library import ZZFeatureMap,TwoLocal\n"
   ]
  },
  {
   "cell_type": "code",
   "execution_count": 2,
   "id": "c75593b0",
   "metadata": {},
   "outputs": [],
   "source": [
    "def encode_circ(reg_a,reg_b,num_features = 2):\n",
    "    qc = QuantumCircuit(reg_a,reg_b)\n",
    "    qc.compose(ZZFeatureMap(num_features*2),inplace=True)\n",
    "    return qc"
   ]
  },
  {
   "cell_type": "code",
   "execution_count": 3,
   "id": "d65a53cc",
   "metadata": {},
   "outputs": [],
   "source": [
    "def entangle_circ(reg_a,reg_b,num_features = 2):\n",
    "    qc = QuantumCircuit(reg_a,reg_b)\n",
    "    qc.compose(TwoLocal(num_features * 2,reps = 1,rotation_blocks = 'ry',entanglement_blocks = 'cx',skip_final_rotation_layer = True),inplace=True)\n",
    "    return qc"
   ]
  },
  {
   "cell_type": "code",
   "execution_count": 4,
   "id": "4f6a9c71",
   "metadata": {},
   "outputs": [],
   "source": [
    "def measure_circ(reg_a,reg_b,reg_c, num_features = 2):\n",
    "    \n",
    "    mc = QuantumCircuit(reg_a,reg_b,reg_c)\n",
    "\n",
    "    #Perform controlled SWAP test for measuring entanglement\n",
    "\n",
    "    for i in range(num_features):\n",
    "        mc.cx( reg_a[i],reg_b[i])\n",
    "        mc.h(reg_c[i])\n",
    "\n",
    "    for i in range(num_features):\n",
    "        mc.ccx(reg_b[i],reg_c[i],reg_a[i])\n",
    "        \n",
    "    for i in range(num_features):\n",
    "        mc.cx(reg_a[i],reg_b[i])\n",
    "        mc.h(reg_c[i])\n",
    "    return mc"
   ]
  },
  {
   "cell_type": "code",
   "execution_count": 12,
   "id": "24f72104",
   "metadata": {},
   "outputs": [
    {
     "data": {
      "text/html": [
       "<pre style=\"word-wrap: normal;white-space: pre;background: #fff0;line-height: 1.1;font-family: &quot;Courier New&quot;,Courier,monospace\">       ┌────────────────────────────────────┐┌────────────────────────────────┐»\n",
       "q18_0: ┤0                                   ├┤0                               ├»\n",
       "       │                                    ││                                │»\n",
       "q18_1: ┤1                                   ├┤1                               ├»\n",
       "       │  ZZFeatureMap(x[0],x[1],x[2],x[3]) ││  TwoLocal(θ[0],θ[1],θ[2],θ[3]) │»\n",
       "q19_0: ┤2                                   ├┤2                               ├»\n",
       "       │                                    ││                                │»\n",
       "q19_1: ┤3                                   ├┤3                               ├»\n",
       "       └───────────────┬───┬────────────────┘└────────────────────────────────┘»\n",
       "q20_0: ────────────────┤ H ├───────────────────────────────────────────────────»\n",
       "                       ├───┤                                                   »\n",
       "q20_1: ────────────────┤ H ├───────────────────────────────────────────────────»\n",
       "                       └───┘                                                   »\n",
       " c1: 2/════════════════════════════════════════════════════════════════════════»\n",
       "                                                                               »\n",
       "«                 ┌───┐                  \n",
       "«q18_0: ──■───────┤ X ├───────■──────────\n",
       "«         │       └─┬─┘┌───┐  │          \n",
       "«q18_1: ──┼────■────┼──┤ X ├──┼────■─────\n",
       "«       ┌─┴─┐  │    │  └─┬─┘┌─┴─┐  │     \n",
       "«q19_0: ┤ X ├──┼────■────┼──┤ X ├──┼─────\n",
       "«       └───┘┌─┴─┐  │    │  └───┘┌─┴─┐   \n",
       "«q19_1: ─────┤ X ├──┼────■───────┤ X ├───\n",
       "«            └───┘  │    │  ┌───┐└┬─┬┘   \n",
       "«q20_0: ────────────■────┼──┤ H ├─┤M├────\n",
       "«                        │  ├───┤ └╥┘ ┌─┐\n",
       "«q20_1: ─────────────────■──┤ H ├──╫──┤M├\n",
       "«                           └───┘  ║  └╥┘\n",
       "« c1: 2/═══════════════════════════╩═══╩═\n",
       "«                                  0   1 </pre>"
      ],
      "text/plain": [
       "       ┌────────────────────────────────────┐┌────────────────────────────────┐»\n",
       "q18_0: ┤0                                   ├┤0                               ├»\n",
       "       │                                    ││                                │»\n",
       "q18_1: ┤1                                   ├┤1                               ├»\n",
       "       │  ZZFeatureMap(x[0],x[1],x[2],x[3]) ││  TwoLocal(θ[0],θ[1],θ[2],θ[3]) │»\n",
       "q19_0: ┤2                                   ├┤2                               ├»\n",
       "       │                                    ││                                │»\n",
       "q19_1: ┤3                                   ├┤3                               ├»\n",
       "       └───────────────┬───┬────────────────┘└────────────────────────────────┘»\n",
       "q20_0: ────────────────┤ H ├───────────────────────────────────────────────────»\n",
       "                       ├───┤                                                   »\n",
       "q20_1: ────────────────┤ H ├───────────────────────────────────────────────────»\n",
       "                       └───┘                                                   »\n",
       " c1: 2/════════════════════════════════════════════════════════════════════════»\n",
       "                                                                               »\n",
       "«                 ┌───┐                  \n",
       "«q18_0: ──■───────┤ X ├───────■──────────\n",
       "«         │       └─┬─┘┌───┐  │          \n",
       "«q18_1: ──┼────■────┼──┤ X ├──┼────■─────\n",
       "«       ┌─┴─┐  │    │  └─┬─┘┌─┴─┐  │     \n",
       "«q19_0: ┤ X ├──┼────■────┼──┤ X ├──┼─────\n",
       "«       └───┘┌─┴─┐  │    │  └───┘┌─┴─┐   \n",
       "«q19_1: ─────┤ X ├──┼────■───────┤ X ├───\n",
       "«            └───┘  │    │  ┌───┐└┬─┬┘   \n",
       "«q20_0: ────────────■────┼──┤ H ├─┤M├────\n",
       "«                        │  ├───┤ └╥┘ ┌─┐\n",
       "«q20_1: ─────────────────■──┤ H ├──╫──┤M├\n",
       "«                           └───┘  ║  └╥┘\n",
       "« c1: 2/═══════════════════════════╩═══╩═\n",
       "«                                  0   1 "
      ]
     },
     "execution_count": 12,
     "metadata": {},
     "output_type": "execute_result"
    }
   ],
   "source": [
    "num_features = 2\n",
    "\n",
    "reg_a = QuantumRegister(num_features)\n",
    "reg_b = QuantumRegister(num_features)\n",
    "reg_c = QuantumRegister(num_features)\n",
    "output = ClassicalRegister(num_features)\n",
    "qc = QuantumCircuit(reg_a,reg_b,reg_c,output)\n",
    "qc.compose(encode_circ(reg_a,reg_b),inplace=True)\n",
    "qc.compose(entangle_circ(reg_a,reg_b),inplace=True)\n",
    "qc.compose(measure_circ(reg_a,reg_b,reg_c),inplace=True)\n",
    "\n",
    "qc.measure(reg_c,output)\n",
    "qc.draw()"
   ]
  },
  {
   "cell_type": "code",
   "execution_count": null,
   "id": "622dcd80",
   "metadata": {},
   "outputs": [],
   "source": []
  },
  {
   "cell_type": "code",
   "execution_count": 6,
   "id": "de44a5aa",
   "metadata": {},
   "outputs": [
    {
     "data": {
      "text/plain": [
       "<qiskit.circuit.quantumcircuit.QuantumCircuit at 0x7f0f517706a0>"
      ]
     },
     "execution_count": 6,
     "metadata": {},
     "output_type": "execute_result"
    }
   ],
   "source": [
    "qc = QuantumCircuit(reg_a,reg_b)\n",
    "qc.compose(ZZFeatureMap(num_features))"
   ]
  }
 ],
 "metadata": {
  "kernelspec": {
   "display_name": "Python 3",
   "language": "python",
   "name": "python3"
  },
  "language_info": {
   "codemirror_mode": {
    "name": "ipython",
    "version": 3
   },
   "file_extension": ".py",
   "mimetype": "text/x-python",
   "name": "python",
   "nbconvert_exporter": "python",
   "pygments_lexer": "ipython3",
   "version": "3.7.0"
  },
  "name": "Entangle.ipynb"
 },
 "nbformat": 4,
 "nbformat_minor": 5
}
