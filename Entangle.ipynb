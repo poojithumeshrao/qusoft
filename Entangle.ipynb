{
 "cells": [
  {
   "cell_type": "code",
   "execution_count": 44,
   "id": "5830729b",
   "metadata": {
    "collapsed": false
   },
   "outputs": [],
   "source": [
    "import numpy as np\n",
    "from qiskit import *\n",
    "from qiskit.circuit.library import ZZFeatureMap,TwoLocal\n",
    "from qiskit_machine_learning.circuit.library import RawFeatureVector\n",
    "from qiskit.circuit import ParameterVector\n",
    "from qiskit_machine_learning.neural_networks import EstimatorQNN"
   ]
  },
  {
   "cell_type": "code",
   "execution_count": 33,
   "id": "c75593b0",
   "metadata": {
    "collapsed": false
   },
   "outputs": [],
   "source": [
    "def encode_circ_zz(reg_a,reg_b,num_features = 2):\n",
    "    qc = QuantumCircuit(reg_a,reg_b)\n",
    "    qc.compose(ZZFeatureMap(num_features*2),inplace=True)\n",
    "    \n",
    "    return qc\n",
    "\n",
    "def encode_circ(input_dimension = 4,param_name = ''):\n",
    "    #vec = ParameterVector(param_name,input_dimension)\n",
    "    #qc = RawFeatureVector((input_dimension))\n",
    "    #qc.assign_parameters(vec,inplace=True)\n",
    "\n",
    "    np.random.seed(0)\n",
    "    initial_point = np.random.rand(input_dimension)\n",
    "    initial_point /= np.linalg.norm(initial_point)\n",
    "    #qc.bind_parameters({qc.parameters[i]:initial_point[i] for i in range(qc.num_parameters)})\n",
    "    #qc.assign_parameters(initial_point,inplace=True)\n",
    "    qc = QuantumCircuit(2)\n",
    "    qc.initialize(initial_point)\n",
    "    return qc"
   ]
  },
  {
   "cell_type": "code",
   "execution_count": 20,
   "id": "d65a53cc",
   "metadata": {
    "collapsed": false
   },
   "outputs": [],
   "source": [
    "def entangle_circ(reg_a,reg_b,num_features = 2):\n",
    "    qc = QuantumCircuit(reg_a,reg_b)\n",
    "    qc.compose(TwoLocal(num_features * 2,reps = 1,rotation_blocks = 'ry',entanglement_blocks = 'cx',skip_final_rotation_layer = True),inplace=True)\n",
    "    return qc"
   ]
  },
  {
   "cell_type": "code",
   "execution_count": 21,
   "id": "4f6a9c71",
   "metadata": {
    "collapsed": false
   },
   "outputs": [],
   "source": [
    "def measure_circ(reg_a,reg_b,reg_c, num_features = 2):\n",
    "    \n",
    "    mc = QuantumCircuit(reg_a,reg_b,reg_c)\n",
    "\n",
    "    #Perform controlled SWAP test for measuring entanglement\n",
    "\n",
    "    for i in range(num_features):\n",
    "        mc.cx( reg_a[i],reg_b[i])\n",
    "        mc.h(reg_c[i])\n",
    "\n",
    "    for i in range(num_features):\n",
    "        mc.ccx(reg_b[i],reg_c[i],reg_a[i])\n",
    "        \n",
    "    for i in range(num_features):\n",
    "        mc.cx(reg_a[i],reg_b[i])\n",
    "        mc.h(reg_c[i])\n",
    "    return mc"
   ]
  },
  {
   "cell_type": "code",
   "execution_count": 39,
   "id": "d83df25d-67da-4069-a6bd-ee0ef1eebf44",
   "metadata": {
    "collapsed": false
   },
   "outputs": [],
   "source": [
    "def calculate_entanglement(num_features,results):\n",
    "    desired = ''.join(['0' for i in range(num_features)])\n",
    "    return 1- results[desired]/sum(results.values())"
   ]
  },
  {
   "cell_type": "code",
   "execution_count": 58,
   "id": "24f72104",
   "metadata": {
    "collapsed": false
   },
   "outputs": [
    {
     "data": {
      "text/html": [
       "<pre style=\"word-wrap: normal;white-space: pre;background: #fff0;line-height: 1.1;font-family: &quot;Courier New&quot;,Courier,monospace\">          ┌────────────────────────────────────┐»\n",
       "q22554_0: ┤0                                   ├»\n",
       "          │                                    │»\n",
       "q22554_1: ┤1                                   ├»\n",
       "          │  ZZFeatureMap(x[0],x[1],x[2],x[3]) │»\n",
       "q22555_0: ┤2                                   ├»\n",
       "          │                                    │»\n",
       "q22555_1: ┤3                                   ├»\n",
       "          └───────────────┬───┬────────────────┘»\n",
       "q22556_0: ────────────────┤ H ├─────────────────»\n",
       "                          ├───┤                 »\n",
       "q22556_1: ────────────────┤ H ├─────────────────»\n",
       "                          └───┘                 »\n",
       "    c8: 2/══════════════════════════════════════»\n",
       "                                                »\n",
       "«          ┌────────────────────────────────┐          ┌───┐               \n",
       "«q22554_0: ┤0                               ├──■───────┤ X ├───────■───────\n",
       "«          │                                │  │       └─┬─┘┌───┐  │       \n",
       "«q22554_1: ┤1                               ├──┼────■────┼──┤ X ├──┼────■──\n",
       "«          │  TwoLocal(θ[0],θ[1],θ[2],θ[3]) │┌─┴─┐  │    │  └─┬─┘┌─┴─┐  │  \n",
       "«q22555_0: ┤2                               ├┤ X ├──┼────■────┼──┤ X ├──┼──\n",
       "«          │                                │└───┘┌─┴─┐  │    │  └───┘┌─┴─┐\n",
       "«q22555_1: ┤3                               ├─────┤ X ├──┼────■───────┤ X ├\n",
       "«          └────────────────────────────────┘     └───┘  │    │  ┌───┐└───┘\n",
       "«q22556_0: ──────────────────────────────────────────────■────┼──┤ H ├─────\n",
       "«                                                             │  ├───┤     \n",
       "«q22556_1: ───────────────────────────────────────────────────■──┤ H ├─────\n",
       "«                                                                └───┘     \n",
       "«    c8: 2/════════════════════════════════════════════════════════════════\n",
       "«                                                                          </pre>"
      ],
      "text/plain": [
       "          ┌────────────────────────────────────┐»\n",
       "q22554_0: ┤0                                   ├»\n",
       "          │                                    │»\n",
       "q22554_1: ┤1                                   ├»\n",
       "          │  ZZFeatureMap(x[0],x[1],x[2],x[3]) │»\n",
       "q22555_0: ┤2                                   ├»\n",
       "          │                                    │»\n",
       "q22555_1: ┤3                                   ├»\n",
       "          └───────────────┬───┬────────────────┘»\n",
       "q22556_0: ────────────────┤ H ├─────────────────»\n",
       "                          ├───┤                 »\n",
       "q22556_1: ────────────────┤ H ├─────────────────»\n",
       "                          └───┘                 »\n",
       "    c8: 2/══════════════════════════════════════»\n",
       "                                                »\n",
       "«          ┌────────────────────────────────┐          ┌───┐               \n",
       "«q22554_0: ┤0                               ├──■───────┤ X ├───────■───────\n",
       "«          │                                │  │       └─┬─┘┌───┐  │       \n",
       "«q22554_1: ┤1                               ├──┼────■────┼──┤ X ├──┼────■──\n",
       "«          │  TwoLocal(θ[0],θ[1],θ[2],θ[3]) │┌─┴─┐  │    │  └─┬─┘┌─┴─┐  │  \n",
       "«q22555_0: ┤2                               ├┤ X ├──┼────■────┼──┤ X ├──┼──\n",
       "«          │                                │└───┘┌─┴─┐  │    │  └───┘┌─┴─┐\n",
       "«q22555_1: ┤3                               ├─────┤ X ├──┼────■───────┤ X ├\n",
       "«          └────────────────────────────────┘     └───┘  │    │  ┌───┐└───┘\n",
       "«q22556_0: ──────────────────────────────────────────────■────┼──┤ H ├─────\n",
       "«                                                             │  ├───┤     \n",
       "«q22556_1: ───────────────────────────────────────────────────■──┤ H ├─────\n",
       "«                                                                └───┘     \n",
       "«    c8: 2/════════════════════════════════════════════════════════════════\n",
       "«                                                                          "
      ]
     },
     "execution_count": 58,
     "metadata": {},
     "output_type": "execute_result"
    }
   ],
   "source": [
    "num_features = 2\n",
    "\n",
    "reg_a = QuantumRegister(num_features)\n",
    "reg_b = QuantumRegister(num_features)\n",
    "reg_c = QuantumRegister(num_features)\n",
    "output = ClassicalRegister(num_features)\n",
    "qc = QuantumCircuit(reg_a,reg_b,reg_c,output)\n",
    "# qc.compose(encode_circ(input_dimension=4,param_name='reg_a'),inplace=True,qubits=reg_a)\n",
    "# qc.compose(encode_circ(input_dimension=4,param_name='reg_b'),inplace=True,qubits=reg_b)\n",
    "fm = encode_circ_zz(reg_a,reg_b)\n",
    "qc.compose(fm,inplace=True)\n",
    "pqc = entangle_circ(reg_a,reg_b)\n",
    "qc.compose(pqc,inplace=True)\n",
    "qc.compose(measure_circ(reg_a,reg_b,reg_c),inplace=True)\n",
    "\n",
    "#qc.measure(reg_c,output)\n",
    "qc.draw()"
   ]
  },
  {
   "cell_type": "code",
   "execution_count": 66,
   "id": "40dea96a-5791-4d6b-b588-6e22cbdbc16d",
   "metadata": {
    "collapsed": false
   },
   "outputs": [
    {
     "data": {
      "text/plain": [
       "array([[-0.01509353]])"
      ]
     },
     "execution_count": 66,
     "metadata": {},
     "output_type": "execute_result"
    }
   ],
   "source": [
    "from qiskit.quantum_info import SparsePauliOp\n",
    "\n",
    "o1 = SparsePauliOp.from_list([(\"I\"*2*num_features+\"X\"*num_features,1)])\n",
    "\n",
    "qnn = EstimatorQNN(\n",
    "    circuit=qc,\n",
    "    input_params=fm.parameters,\n",
    "    weight_params=pqc.parameters,\n",
    "    observables = o1\n",
    ")\n",
    "\n",
    "qnn.forward(input_data=[1,1,1,1],weights=[1, 2, 3, 4])"
   ]
  },
  {
   "cell_type": "code",
   "execution_count": 45,
   "id": "622dcd80",
   "metadata": {
    "collapsed": false
   },
   "outputs": [],
   "source": [
    "from qiskit.circuit import Parameter\n",
    "\n",
    "circuit = qc.bind_parameters({param: np.random.uniform(0.0,np.pi*2) for param in qc.parameters})\n",
    "random_input = [np.random.uniform(0,np.pi*2) for i in range(num_features * 2)]\n",
    "#circuit.draw()\n"
   ]
  },
  {
   "cell_type": "code",
   "execution_count": 40,
   "id": "daa3c43f-258c-4b6b-96c2-91b89cb976b9",
   "metadata": {
    "collapsed": false
   },
   "outputs": [],
   "source": [
    "# Import Aer\n",
    "from qiskit import Aer,execute\n",
    "\n",
    "# Run the quantum circuit on a statevector simulator backend\n",
    "backend = Aer.get_backend('qasm_simulator')\n",
    "\n",
    "def objective_function(parameters):\n",
    "\n",
    "    circuit = qc.bind_parameters({pqc.parameters[i]:parameters[i] for i in range(pqc.num_parameters)})\n",
    "\n",
    "    #circuit.draw()\n",
    "    # Run\n",
    "    result = execute(circuit,backend).result()\n",
    "    return calculate_entanglement(2,result.get_counts(circuit))"
   ]
  },
  {
   "cell_type": "code",
   "execution_count": 41,
   "id": "5406df3b-e2bc-4527-8f93-d8dc65734518",
   "metadata": {
    "collapsed": false
   },
   "outputs": [
    {
     "data": {
      "text/plain": [
       "0.533203125"
      ]
     },
     "execution_count": 41,
     "metadata": {},
     "output_type": "execute_result"
    }
   ],
   "source": [
    "objective_function(initial_point)"
   ]
  },
  {
   "cell_type": "code",
   "execution_count": 43,
   "id": "f5c52fa6-03fb-446e-a1ea-c4352749413a",
   "metadata": {
    "collapsed": false
   },
   "outputs": [
    {
     "data": {
      "image/png": "[encoded data removed]",
      "text/plain": [
       "<Figure size 640x480 with 1 Axes>"
      ]
     },
     "metadata": {},
     "output_type": "display_data"
    },
    {
     "name": "stdout",
     "output_type": "stream",
     "text": [
      "0.0\n"
     ]
    }
   ],
   "source": [
    "from qiskit.algorithms.optimizers import SPSA\n",
    "import matplotlib.pyplot as plt\n",
    "\n",
    "class OptimizerLog:\n",
    "    \"\"\"Log to store optimizer's intermediate results\"\"\"\n",
    "    def __init__(self):\n",
    "        self.evaluations = []\n",
    "        self.parameters = []\n",
    "        self.costs = []\n",
    "    def update(self, evaluation, parameter, cost, _stepsize, _accept):\n",
    "        \"\"\"Save intermediate results. Optimizer passes five values\n",
    "        but we ignore the last two.\"\"\"\n",
    "        self.evaluations.append(evaluation)\n",
    "        self.parameters.append(parameter)\n",
    "        self.costs.append(cost)\n",
    "\n",
    "initial_point = [np.random.uniform(0.0,np.pi*2) for i in range(qc.num_parameters)]\n",
    "log = OptimizerLog()\n",
    "optimizer = SPSA(maxiter=1000,callback=log.update)\n",
    "result = optimizer.minimize(objective_function, initial_point)\n",
    "\n",
    "fig = plt.figure()\n",
    "plt.plot(log.evaluations, log.costs)\n",
    "plt.xlabel('Steps')\n",
    "plt.ylabel('Cost')\n",
    "plt.show()\n",
    "\n",
    "print(result.fun)"
   ]
  },
  {
   "cell_type": "code",
   "execution_count": 10,
   "id": "b1f88dad-9dee-4940-b657-daadbc4077ef",
   "metadata": {
    "collapsed": false
   },
   "outputs": [
    {
     "data": {
      "text/plain": [
       "ParameterView([ParameterVectorElement(vec_1[0]), ParameterVectorElement(vec_1[1]), ParameterVectorElement(vec_1[2]), ParameterVectorElement(vec_1[3])])"
      ]
     },
     "execution_count": 10,
     "metadata": {},
     "output_type": "execute_result"
    }
   ],
   "source": [
    "qc_1 = QuantumCircuit(reg_a,name=\"first input\")\n",
    "vec_1 = ParameterVector('vec_1',4)\n",
    "qc_1.compose(RawFeatureVector((4)),inplace=True)\n",
    "qc_1.assign_parameters(vec_1,inplace=True)\n",
    "qc_1.parameters"
   ]
  },
  {
   "cell_type": "code",
   "execution_count": 10,
   "id": "b7261fc0-54b7-468a-b8bc-b7abaf3cd06a",
   "metadata": {
    "collapsed": false
   },
   "outputs": [],
   "source": []
  }
 ],
 "metadata": {
  "kernelspec": {
   "argv": [
    "python",
    "-m",
    "ipykernel_launcher",
    "-f",
    "{connection_file}"
   ],
   "display_name": "Python 3 (ipykernel)",
   "env": null,
   "interrupt_mode": "signal",
   "language": "python",
   "metadata": {
    "debugger": true
   },
   "name": "python3"
  },
  "language_info": {
   "codemirror_mode": {
    "name": "ipython",
    "version": 3
   },
   "file_extension": ".py",
   "mimetype": "text/x-python",
   "name": "python",
   "nbconvert_exporter": "python",
   "pygments_lexer": "ipython3",
   "version": "3.7.0"
  },
  "name": "Entangle.ipynb"
 },
 "nbformat": 4,
 "nbformat_minor": 5
}
