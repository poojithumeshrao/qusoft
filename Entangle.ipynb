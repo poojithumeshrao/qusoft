{
 "cells": [
  {
   "cell_type": "code",
   "execution_count": 5,
   "id": "d0335d9b-750d-4921-b691-97183363f08d",
   "metadata": {
    "collapsed": false
   },
   "outputs": [],
   "source": []
  },
  {
   "cell_type": "code",
   "execution_count": 6,
   "id": "9feb1f02-4b58-4ba9-b773-e311acc09d0f",
   "metadata": {
    "collapsed": false
   },
   "outputs": [],
   "source": [
    "from qiskit.circuit.library import ZZFeatureMap,TwoLocal"
   ]
  },
  {
   "cell_type": "code",
   "execution_count": 7,
   "id": "de3e7299-af3e-4be3-8062-8c9b74960e43",
   "metadata": {
    "collapsed": false
   },
   "outputs": [],
   "source": [
    "def encode_circ(qc,num_features = 3):\n",
    "    qc = qc + ZZFeatureMap(num_features)\n",
    "    return qc"
   ]
  },
  {
   "cell_type": "code",
   "execution_count": null,
   "id": "b248b3c3-9d14-40f0-957b-c97687644dca",
   "metadata": {
    "collapsed": false
   },
   "outputs": [],
   "source": [
    "def entangle_circ(qc, num_features = 3):\n",
    "    qc = qc + TwoLocal(num_features * 2,reps = 1,rotation_blocks = 'ry',entanglement_blocks = 'cx',skip_final_rotation_layer = True)\n",
    "    return qc"
   ]
  },
  {
   "cell_type": "code",
   "execution_count": null,
   "id": "2c8c392e-9cdc-4303-bba0-370aa41d0e62",
   "metadata": {
    "collapsed": false
   },
   "outputs": [],
   "source": [
    "ex_cir = "
   ]
  }
 ],
 "metadata": {
  "kernelspec": {
   "argv": [
    "python",
    "-m",
    "ipykernel_launcher",
    "-f",
    "{connection_file}"
   ],
   "display_name": "Python 3 (ipykernel)",
   "env": null,
   "interrupt_mode": "signal",
   "language": "python",
   "metadata": {
    "debugger": true
   },
   "name": "python3"
  },
  "name": "Entangle.ipynb"
 },
 "nbformat": 4,
 "nbformat_minor": 5
}
